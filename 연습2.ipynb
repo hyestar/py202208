{
 "cells": [
  {
   "cell_type": "code",
   "execution_count": 8,
   "metadata": {},
   "outputs": [],
   "source": [
    "# openpyxl 모듈 가져옴\n",
    "from openpyxl import *\n",
    "# 엑셀추가\n",
    "w1 = Workbook()\n",
    "ws = w1.active\n",
    "# 엑셀 저장\n",
    "w1.save(\"test.xlsx\")\n",
    "# 엑셀 로드\n",
    "w2 = load_workbook('test.xlsx')\n",
    "ws2 = w2.active\n",
    "# 셀을 선택해서 편집하는 방법\n",
    "ws2[\"A1\"] = \"hello\"\n",
    "w2.save(\"test.xlsx\")\n",
    "ws2[\"C3\"] = \"python\"\n",
    "w2.save(\"test.xlsx\")\n",
    "# 원하는 범위만큼 셀 편집하는 방법\n",
    "a = \"python\"\n",
    "for row in ws2[\"D5\":\"F8\"]:\n",
    "    for cell in row:\n",
    "        cell.value = a\n",
    "w2.save(\"test.xlsx\")\n",
    "num = 1\n",
    "for row in ws2[\"A1\":\"C3\"]:\n",
    "    for cell in row:\n",
    "        cell.value = num\n",
    "        num+=1\n",
    "w2.save(\"test.xlsx\")\n"
   ]
  },
  {
   "cell_type": "code",
   "execution_count": 14,
   "metadata": {},
   "outputs": [],
   "source": [
    "# 엑셀시트 생성\n",
    "# 새롭게 생성된 시트는 맨 마지막 탭에 추가됨\n",
    "newws=w2.create_sheet()\n",
    "# 시트 이름 변경\n",
    "newws.title = \"마지막시트\"\n",
    "# 원하는 위치에 원하는 이름으로 시트 생성\n",
    "w2.create_sheet(\"1번시트\", 0)\n",
    "w2.save(\"test.xlsx\")"
   ]
  },
  {
   "cell_type": "code",
   "execution_count": null,
   "metadata": {},
   "outputs": [],
   "source": []
  }
 ],
 "metadata": {
  "kernelspec": {
   "display_name": "Python 3.10.6 64-bit",
   "language": "python",
   "name": "python3"
  },
  "language_info": {
   "codemirror_mode": {
    "name": "ipython",
    "version": 3
   },
   "file_extension": ".py",
   "mimetype": "text/x-python",
   "name": "python",
   "nbconvert_exporter": "python",
   "pygments_lexer": "ipython3",
   "version": "3.10.6"
  },
  "orig_nbformat": 4,
  "vscode": {
   "interpreter": {
    "hash": "3196968d684371006099b3d55edeef8ed90365227a30deaef86e5d4aa8519be0"
   }
  }
 },
 "nbformat": 4,
 "nbformat_minor": 2
}
