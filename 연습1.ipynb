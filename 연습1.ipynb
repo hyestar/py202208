{
 "cells": [
  {
   "cell_type": "code",
   "execution_count": 1,
   "metadata": {},
   "outputs": [
    {
     "name": "stdout",
     "output_type": "stream",
     "text": [
      "c:\\py_test08\n"
     ]
    }
   ],
   "source": [
    "# import 모듈이름\n",
    "# from 모듈이름 import 원하는함수이름\n",
    "import os\n",
    "# 현재 디렉토리\n",
    "print(os.getcwd())"
   ]
  },
  {
   "cell_type": "code",
   "execution_count": 2,
   "metadata": {},
   "outputs": [
    {
     "name": "stdout",
     "output_type": "stream",
     "text": [
      "C:\\py_test08\\py_test1\n"
     ]
    }
   ],
   "source": [
    "import os\n",
    "# 디렉토리 이동\n",
    "os.chdir(\"C:\\py_test08\\py_test1\")\n",
    "print(os.getcwd())"
   ]
  },
  {
   "cell_type": "code",
   "execution_count": 3,
   "metadata": {},
   "outputs": [
    {
     "name": "stdout",
     "output_type": "stream",
     "text": [
      "C:\\py_test08\n"
     ]
    }
   ],
   "source": [
    "os.chdir(\"C:\\py_test08\")\n",
    "print(os.getcwd())"
   ]
  },
  {
   "cell_type": "code",
   "execution_count": 4,
   "metadata": {},
   "outputs": [
    {
     "data": {
      "text/plain": [
       "['.git', 'py_test1', 'test.py', '연습.ipynb', '연습1.ipynb']"
      ]
     },
     "execution_count": 4,
     "metadata": {},
     "output_type": "execute_result"
    }
   ],
   "source": [
    "# 입력한 경로의 파일과 폴더 목록을 리스트로 반환하는 함수\n",
    "os.listdir(\"C:\\py_test08\")"
   ]
  },
  {
   "cell_type": "code",
   "execution_count": 7,
   "metadata": {},
   "outputs": [
    {
     "name": "stdout",
     "output_type": "stream",
     "text": [
      ".git\n",
      "py_test1\n",
      "test.py\n",
      "연습.ipynb\n",
      "연습1.ipynb\n"
     ]
    }
   ],
   "source": [
    "for i in os.listdir(\"C:\\py_test08\") :\n",
    "    print(i)"
   ]
  },
  {
   "cell_type": "code",
   "execution_count": 9,
   "metadata": {},
   "outputs": [
    {
     "name": "stdout",
     "output_type": "stream",
     "text": [
      "True\n",
      "False\n"
     ]
    }
   ],
   "source": [
    "print(os.path.exists(\"C:\\py_test08\\py_test1\"))\n",
    "print(os.path.exists(\"C:\\py_test08\\py_test2\"))"
   ]
  },
  {
   "cell_type": "code",
   "execution_count": 14,
   "metadata": {},
   "outputs": [
    {
     "ename": "FileExistsError",
     "evalue": "[WinError 183] 파일이 이미 있으므로 만들 수 없습니다: 'C:\\\\py_test08\\\\py_test3\\\\py_test4'",
     "output_type": "error",
     "traceback": [
      "\u001b[1;31m---------------------------------------------------------------------------\u001b[0m",
      "\u001b[1;31mFileExistsError\u001b[0m                           Traceback (most recent call last)",
      "\u001b[1;32mc:\\py_test08\\연습1.ipynb 셀 7\u001b[0m in \u001b[0;36m<cell line: 5>\u001b[1;34m()\u001b[0m\n\u001b[0;32m      <a href='vscode-notebook-cell:/c%3A/py_test08/%EC%97%B0%EC%8A%B51.ipynb#W6sZmlsZQ%3D%3D?line=0'>1</a>\u001b[0m \u001b[39m# mkdir, makedirs 모두 폴더(디렉토리)를 만드는 함수입니다.\u001b[39;00m\n\u001b[0;32m      <a href='vscode-notebook-cell:/c%3A/py_test08/%EC%97%B0%EC%8A%B51.ipynb#W6sZmlsZQ%3D%3D?line=1'>2</a>\u001b[0m \u001b[39m# mkdir() 경로의 제일 마지막에 적힌 하나의 폴더만을 생성\u001b[39;00m\n\u001b[0;32m      <a href='vscode-notebook-cell:/c%3A/py_test08/%EC%97%B0%EC%8A%B51.ipynb#W6sZmlsZQ%3D%3D?line=2'>3</a>\u001b[0m \u001b[39m# makedirs() 시작부터 끝까지의 경로안에 있는 폴더 생성(하위폴더까지 포함)\u001b[39;00m\n\u001b[0;32m      <a href='vscode-notebook-cell:/c%3A/py_test08/%EC%97%B0%EC%8A%B51.ipynb#W6sZmlsZQ%3D%3D?line=3'>4</a>\u001b[0m \u001b[39m# os.mkdir(\"C:\\py_test08\\py_test3\\py_test4\")\u001b[39;00m\n\u001b[1;32m----> <a href='vscode-notebook-cell:/c%3A/py_test08/%EC%97%B0%EC%8A%B51.ipynb#W6sZmlsZQ%3D%3D?line=4'>5</a>\u001b[0m os\u001b[39m.\u001b[39;49mmakedirs(\u001b[39m\"\u001b[39;49m\u001b[39mC:\u001b[39;49m\u001b[39m\\\u001b[39;49m\u001b[39mpy_test08\u001b[39;49m\u001b[39m\\\u001b[39;49m\u001b[39mpy_test3\u001b[39;49m\u001b[39m\\\u001b[39;49m\u001b[39mpy_test4\u001b[39;49m\u001b[39m\"\u001b[39;49m)\n",
      "File \u001b[1;32mc:\\Users\\Administrator\\AppData\\Local\\Programs\\Python\\Python310\\lib\\os.py:225\u001b[0m, in \u001b[0;36mmakedirs\u001b[1;34m(name, mode, exist_ok)\u001b[0m\n\u001b[0;32m    223\u001b[0m         \u001b[39mreturn\u001b[39;00m\n\u001b[0;32m    224\u001b[0m \u001b[39mtry\u001b[39;00m:\n\u001b[1;32m--> 225\u001b[0m     mkdir(name, mode)\n\u001b[0;32m    226\u001b[0m \u001b[39mexcept\u001b[39;00m \u001b[39mOSError\u001b[39;00m:\n\u001b[0;32m    227\u001b[0m     \u001b[39m# Cannot rely on checking for EEXIST, since the operating system\u001b[39;00m\n\u001b[0;32m    228\u001b[0m     \u001b[39m# could give priority to other errors like EACCES or EROFS\u001b[39;00m\n\u001b[0;32m    229\u001b[0m     \u001b[39mif\u001b[39;00m \u001b[39mnot\u001b[39;00m exist_ok \u001b[39mor\u001b[39;00m \u001b[39mnot\u001b[39;00m path\u001b[39m.\u001b[39misdir(name):\n",
      "\u001b[1;31mFileExistsError\u001b[0m: [WinError 183] 파일이 이미 있으므로 만들 수 없습니다: 'C:\\\\py_test08\\\\py_test3\\\\py_test4'"
     ]
    }
   ],
   "source": [
    "# mkdir, makedirs 모두 폴더(디렉토리)를 만드는 함수입니다.\n",
    "# mkdir() 경로의 제일 마지막에 적힌 하나의 폴더만을 생성\n",
    "# makedirs() 시작부터 끝까지의 경로안에 있는 폴더 생성(하위폴더까지 포함)\n",
    "# os.mkdir(\"C:\\py_test08\\py_test3\\py_test4\")\n",
    "os.makedirs(\"C:\\py_test08\\py_test3\\py_test4\")"
   ]
  },
  {
   "cell_type": "code",
   "execution_count": 19,
   "metadata": {},
   "outputs": [],
   "source": [
    "# rmdir()함수, removedirs()함수 모두 폴더를 삭제하는 명령어 다만 두 명령어 모두 삭제할 폴더는 반드시 비어 있어야함.\n",
    "# 아래 코드에서 C:\\py_test08\\py_test3 폴더를 삭제하는데 rmdir함수를 사용하면 py_test3 폴더를 삭제\n",
    "# 이때, py_test08은 삭제가 안됨 그래서 한번더 rmdir('C:\\py_test08')해줘야함\n",
    "# 그러나 removedirs()함수를 사용할 경우 모든 경로의 폴더를 한번에 전부 삭제 할 수 있음 다만, 비어야 함.\n",
    "os.rmdir('C:\\py_test08\\py_test3')"
   ]
  },
  {
   "cell_type": "code",
   "execution_count": 23,
   "metadata": {},
   "outputs": [],
   "source": [
    "file = open(\"text.txt\",\"a\")\n",
    "file.write(\"\\n\"+\"nihao~~~~\")\n",
    "file.close()\n"
   ]
  },
  {
   "cell_type": "code",
   "execution_count": 24,
   "metadata": {},
   "outputs": [],
   "source": [
    "f1 = open(\"text2.txt\",\"wt\",encoding=\"utf-8\")\n",
    "f1.write(\"1. 홈런볼\\n\")\n",
    "f1.write(\"2. 맛동산\\n\")\n",
    "f1.write(\"3. 에이스\\n\")\n",
    "f1.write(\"4. 오감자\\n\")\n",
    "f1.write(\"5. 꼬깔콘\")\n",
    "f1.close()"
   ]
  },
  {
   "cell_type": "code",
   "execution_count": 25,
   "metadata": {},
   "outputs": [],
   "source": [
    "for i in range(3, 8):\n",
    "    filename = \"text\"+str(i)+\".txt\"\n",
    "    open(filename, \"w\")"
   ]
  },
  {
   "cell_type": "code",
   "execution_count": 43,
   "metadata": {},
   "outputs": [
    {
     "name": "stdout",
     "output_type": "stream",
     "text": [
      "1. 홈런볼\n",
      "\n",
      "2. 맛동산\n",
      "\n",
      "3. 에이스\n",
      "\n",
      "4. 오감자\n",
      "\n",
      "5. 꼬깔콘\n"
     ]
    }
   ],
   "source": [
    "f1 = open(\"text2.txt\", \"r\",encoding=\"utf-8\")\n",
    "# read() 파일내용 전체를 읽고, 파일 전체 내용을 문자열로 반환해줌.\n",
    "# f1.read()\n",
    "# readlines() 파일내용 전체를 읽고, 각 줄은 문자열 형태로 리스트의 요소가 되어 반환됨.\n",
    "snack = f1.readlines()\n",
    "# print(snack[3])\n",
    "for i in snack:\n",
    "    print(i)\n",
    "# readline() 파일의 한줄을 가져와 문자열로 반환. 파일의 포인터는 그 다음줄로 이동\n",
    "# print(f1.readline())\n",
    "# print(f1.readline())"
   ]
  },
  {
   "cell_type": "code",
   "execution_count": null,
   "metadata": {},
   "outputs": [],
   "source": []
  }
 ],
 "metadata": {
  "kernelspec": {
   "display_name": "Python 3.10.6 64-bit",
   "language": "python",
   "name": "python3"
  },
  "language_info": {
   "codemirror_mode": {
    "name": "ipython",
    "version": 3
   },
   "file_extension": ".py",
   "mimetype": "text/x-python",
   "name": "python",
   "nbconvert_exporter": "python",
   "pygments_lexer": "ipython3",
   "version": "3.10.6"
  },
  "orig_nbformat": 4,
  "vscode": {
   "interpreter": {
    "hash": "3196968d684371006099b3d55edeef8ed90365227a30deaef86e5d4aa8519be0"
   }
  }
 },
 "nbformat": 4,
 "nbformat_minor": 2
}
